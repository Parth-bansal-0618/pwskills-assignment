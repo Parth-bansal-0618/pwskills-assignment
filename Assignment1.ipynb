{
 "cells": [
  {
   "cell_type": "markdown",
   "id": "710cd8cc-b784-46c8-b270-b7aa3cbf7299",
   "metadata": {},
   "source": [
    "Q1. Create one variable containing following type of data:\n",
    "(i) string \n",
    "(ii) list\n",
    "(iii) float \n",
    "(iv) tuple \n",
    "Ans.\n",
    "i) name=\"PARTH\"\n",
    "(ii) L=[1,667,12.9,'name', 'height']\n",
    "(iii) a=68.9\n",
    "(iv) tup=(1,667,12.9,'name', 'height')"
   ]
  },
  {
   "cell_type": "markdown",
   "id": "56282449-071a-40bd-8580-d6e32bbfcdad",
   "metadata": {},
   "source": [
    "Q2. Given are some following variables containing data:\n",
    "(i) var1 = ‘ ‘\n",
    "(ii) var2 = ‘[ DS , ML , Python]’\n",
    "(iii) var3 = [ ‘DS’ , ’ML’ , ‘Python’ ]\n",
    "(iv) var4 = 1.\n",
    "What will be the data type of the above given variable.\n",
    "Ans.\n",
    "(i) string\n",
    "(ii) string\n",
    "(iii) List\n",
    "(iv) integer"
   ]
  },
  {
   "cell_type": "markdown",
   "id": "a8e959d1-519d-4ff5-beda-e41a5204fca8",
   "metadata": {},
   "source": [
    "Q3. Explain the use of the following operators using an example:\n",
    "\n",
    "\n",
    "(i) /\n",
    "The / operator is used for division\n",
    "Eg:-result = 10 / 3\n",
    "print(result)\n",
    "Output: 3.33333\n",
    "\n",
    "(ii) %\n",
    "The % operator is used for the modulo operation, which returns the remainder when one number is divided by another.\n",
    "Example:- remainder = 10 % 3\n",
    "print(remainder)\n",
    "Output: 1\n",
    "\n",
    "(iii) //\n",
    "The // operator is used for floor division, which performs division and rounds down the result to the nearest whole number (integer).\n",
    "Example:- result = 10 // 3\n",
    "print(result)\n",
    "Output: 3\n",
    "\n",
    "(iv) **\n",
    "The ** operator is used for exponentiation, which raises the left operand to the power of the right operand.\n",
    "\n",
    "Example: result = 2 ** 3\n",
    "print(result)\n",
    "Output: 8"
   ]
  },
  {
   "cell_type": "markdown",
   "id": "28f4ec1f-a02c-4ad4-ae87-bf14d3edd3ce",
   "metadata": {},
   "source": [
    "Q4. Create a list of length 10 of your choice containing multiple types of data. Using for loop print the\n",
    "element and its data type.\n",
    "\n",
    "Code:\n",
    "my_list = [1, 3.14, \"Hello\", True, [1, 2, 3], (10, 20), {\"name\": \"John\", \"age\": 30}, None, 5 + 2j, False]\n",
    "\n",
    "Output:\n",
    "for element in my_list:\n",
    "    print(f\"Element: {element} | Data Type: {type(element)}\")\n"
   ]
  },
  {
   "cell_type": "markdown",
   "id": "64784cab-3673-4a64-bfdf-3f14518abfec",
   "metadata": {},
   "source": [
    "Q5. Using a while loop, verify if the number A is purely divisible by number B and if so then how many\n",
    "times it can be divisible.\n",
    "\n",
    "def count_divisions(a, b):\n",
    "    count = 0\n",
    "    while a >= b and a % b == 0:\n",
    "        a = a // b \n",
    "        count += 1\n",
    "    return count\n",
    "A = 26500\n",
    "B = 5\n",
    "result = count_divisions(A, B)\n",
    "print(f\"{A} is purely divisible by {B} and can be divided {result} times.\")\n"
   ]
  },
  {
   "cell_type": "markdown",
   "id": "f1e21a6e-bf44-4442-96c1-2c5c392863db",
   "metadata": {},
   "source": [
    "Q6. Create a list containing 25 int type data. Using for loop and if-else condition print if the element is\n",
    "divisible by 3 or not.\n",
    "\n",
    "my_list = [5, 9, 12, 15, 7, 18, 21, 25, 30, 33, 38, 42, 45, 48, 51, 55, 60, 63, 66, 70, 75, 78, 81, 85, 90]\n",
    "for num in my_list:\n",
    "    if num % 3 == 0:\n",
    "        print(f\"{num} is divisible by 3.\")\n",
    "    else:\n",
    "        print(f\"{num} is not divisible by 3.\")\n"
   ]
  },
  {
   "cell_type": "markdown",
   "id": "e55241bd-ba10-4f68-80a6-607422f4cd4e",
   "metadata": {},
   "source": [
    "Q7. What do you understand about mutable and immutable data types? Give examples for both showing\n",
    "this property.\n",
    "\n",
    "Mutable data types are those whose values can be modified or changed after they are created\n",
    "while immutable data types do not permit changes to their values once created. \n",
    "Examples of mutable types include lists and dictionaries, \n",
    "while integers and strings are examples of immutable data types."
   ]
  }
 ],
 "metadata": {
  "kernelspec": {
   "display_name": "Python 3 (ipykernel)",
   "language": "python",
   "name": "python3"
  },
  "language_info": {
   "codemirror_mode": {
    "name": "ipython",
    "version": 3
   },
   "file_extension": ".py",
   "mimetype": "text/x-python",
   "name": "python",
   "nbconvert_exporter": "python",
   "pygments_lexer": "ipython3",
   "version": "3.10.8"
  }
 },
 "nbformat": 4,
 "nbformat_minor": 5
}
