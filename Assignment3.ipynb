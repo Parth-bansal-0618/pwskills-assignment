{
 "cells": [
  {
   "cell_type": "markdown",
   "id": "18bc01dd-ba32-409a-8cd8-7cd1871398ed",
   "metadata": {},
   "source": [
    "Q1. Which keyword is used to create a function? Create a function to return a list of odd numbers in the\n",
    "range of 1 to 25.\n",
    "\n",
    "def is used to create a function in python.\n",
    "\n",
    "def get_odd_numbers():\n",
    "    odd_numbers = [num for num in range(1, 26) if num % 2 != 0]\n",
    "    return odd_numbers"
   ]
  },
  {
   "cell_type": "markdown",
   "id": "6d5b6c15-4cb3-4f7a-8601-f1302385261e",
   "metadata": {},
   "source": [
    "Q2. Why *args and **kwargs is used in some functions? Create a function each for *args and **kwargs\n",
    "to demonstrate their use.\n",
    "\n",
    "*args and **kwargs are used in functions to accept a variable number of positional and keyword arguments respectively, providing flexibility. *args gathers positional arguments into a tuple, while **kwargs collects keyword arguments into a dictionary. They enable functions to handle diverse input scenarios concisely.\n",
    "\n",
    "# Function with *args\n",
    "def sum_values(*args):\n",
    "    return sum(args)\n",
    "\n",
    "# Function with **kwargs\n",
    "def print_kwargs(**kwargs):\n",
    "    for key, value in kwargs.items():\n",
    "        print(f\"{key}: {value}\")\n",
    "\n",
    "sum_result = sum_values(1, 2, 3, 4, 5)\n",
    "print(sum_result)  # Output: 15\n",
    "\n",
    "print_kwargs(name=\"John\", age=30, city=\"New York\")\n",
    "# Output:\n",
    "# name: John\n",
    "# age: 30\n",
    "# city: New York"
   ]
  },
  {
   "cell_type": "markdown",
   "id": "df324904-6d46-4e90-8733-b18ae356e3ec",
   "metadata": {},
   "source": [
    "Q3. What is an iterator in python? Name the method used to initialise the iterator object and the method\n",
    "used for iteration. Use these methods to print the first five elements of the given list [2, 4, 6, 8, 10, 12, 14,\n",
    "16, 18, 20].\n",
    "\n",
    "In Python, an iterator is an object that allows traversal through a sequence of elements one by one. It provides two main methods:\n",
    "iter() method is used to initialize the iterator object. It takes a sequence (like a list, tuple, or string) as an argument and returns an iterator for that sequence.\n",
    "next() method is used for iteration. It retrieves the next element from the iterator. When there are no more elements to retrieve, it raises the StopIteration exception\n",
    "\n",
    "# Given list\n",
    "my_list = [2, 4, 6, 8, 10, 12, 14, 16, 18, 20]\n",
    "\n",
    "# Initialize the iterator\n",
    "my_iterator = iter(my_list)\n",
    "\n",
    "# Print the first five elements using next() method\n",
    "for _ in range(5):\n",
    "    element = next(my_iterator)\n",
    "    print(element)"
   ]
  },
  {
   "cell_type": "markdown",
   "id": "ee3b6144-f9c4-4d7d-bb71-33ff4b17ca82",
   "metadata": {},
   "source": [
    "Q4. What is a generator function in python? Why yield keyword is used? Give an example of a generator\n",
    "function.\n",
    "\n",
    "A generator function in Python is a special function that uses the `yield` keyword to produce a series of values one at a time, creating an iterator. Unlike regular functions that return once, generators can suspend and resume their execution.\n",
    "The yield keyword is used in a generator function to temporarily suspend the function's execution and return the current generated value to the caller. \n",
    "\n",
    "def countdown(n):\n",
    "    while n > 0:\n",
    "        yield n\n",
    "        n -= 1\n",
    "# Using the generator function\n",
    "countdown_iterator = countdown(5)\n",
    "for num in countdown_iterator:\n",
    "    print(num)"
   ]
  },
  {
   "cell_type": "markdown",
   "id": "e2e59253-494a-4557-814c-b8ba6e455848",
   "metadata": {},
   "source": [
    "Q5. Create a generator function for prime numbers less than 1000. Use the next() method to print the\n",
    "first 20 prime numbers.\n",
    "\n",
    "def is_prime(num):\n",
    "    if num < 2:\n",
    "        return False\n",
    "    for i in range(2, int(num**0.5) + 1):\n",
    "        if num % i == 0:\n",
    "            return False\n",
    "    return True\n",
    "def primes_generator():\n",
    "    num = 2\n",
    "    while True:\n",
    "        if is_prime(num):\n",
    "            yield num\n",
    "        num += 1\n",
    "prime_iterator = primes_generator()\n",
    "for _ in range(20):\n",
    "    prime = next(prime_iterator)\n",
    "    print(prime)\n"
   ]
  },
  {
   "cell_type": "markdown",
   "id": "c8992878-dd9d-4c61-b517-6c1be571e995",
   "metadata": {},
   "source": [
    "Q6. Write a python program to print the first 10 Fibonacci numbers using a while loop.\n",
    "\n",
    "def print_first_10_fibonacci():\n",
    "    a, b = 0, 1\n",
    "    count = 0\n",
    "    while count < 10:\n",
    "        print(a, end=\" \")\n",
    "        a, b = b, a + b\n",
    "        count += 1\n",
    "print_first_10_fibonacci()"
   ]
  },
  {
   "cell_type": "markdown",
   "id": "c095ba29-bca8-43c4-a263-49ed35a3be9c",
   "metadata": {},
   "source": [
    "Q7. Write a List Comprehension to iterate through the given string: ‘pwskills’.\n",
    "Expected output: ['p', 'w', 's', 'k', 'i', 'l', 'l', 's']\n",
    "\n",
    "input_string = 'pwskills'\n",
    "result_list = [char for char in input_string if char in 'pwskills']\n",
    "print(result_list)"
   ]
  },
  {
   "cell_type": "markdown",
   "id": "c1f81fd2-9452-479f-a1c2-d5769e6802ca",
   "metadata": {},
   "source": [
    "Q8. Write a python program to check whether a given number is Palindrome or not using a while loop.\n",
    "\n",
    "def is_palindrome(number):\n",
    "    original_number = number\n",
    "    reversed_number = 0\n",
    "    while number > 0:\n",
    "        digit = number % 10\n",
    "        reversed_number = reversed_number * 10 + digit\n",
    "        number //= 10\n",
    "    return original_number == reversed_number\n",
    "num = int(input(\"Enter a number: \"))\n",
    "if is_palindrome(num):\n",
    "    print(f\"{num} is a Palindrome.\")\n",
    "else:\n",
    "    print(f\"{num} is not a Palindrome.\")"
   ]
  },
  {
   "cell_type": "markdown",
   "id": "30e50a75-db46-4e2d-b5d2-3eebb3d976a4",
   "metadata": {},
   "source": [
    "Q9. Write a code to print odd numbers from 1 to 100 using list comprehension.\n",
    "\n",
    "numbers_list = [num for num in range(1, 101)]\n",
    "odd_numbers = [num for num in numbers_list if num % 2 != 0]\n",
    "print(odd_numbers)\n"
   ]
  }
 ],
 "metadata": {
  "kernelspec": {
   "display_name": "Python 3 (ipykernel)",
   "language": "python",
   "name": "python3"
  },
  "language_info": {
   "codemirror_mode": {
    "name": "ipython",
    "version": 3
   },
   "file_extension": ".py",
   "mimetype": "text/x-python",
   "name": "python",
   "nbconvert_exporter": "python",
   "pygments_lexer": "ipython3",
   "version": "3.10.8"
  }
 },
 "nbformat": 4,
 "nbformat_minor": 5
}
