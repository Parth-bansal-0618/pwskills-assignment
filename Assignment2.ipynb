{
 "cells": [
  {
   "cell_type": "markdown",
   "id": "ec9f0e08-2ffa-45f4-aaed-9c2180a08753",
   "metadata": {},
   "source": [
    "Q1.How do you comment code in Python? What are the different types of comments?\n",
    "\n",
    "In Python, we can comment code using the (#) symbol for single-line comments or (''' or \"\"\") for multi-line comments. Comments are ignored by the interpreter and serve as explanations for developers."
   ]
  },
  {
   "cell_type": "markdown",
   "id": "cf204eed-46e5-42e6-bd18-15802a0a5c4b",
   "metadata": {},
   "source": [
    "Q2. What are variables in Python? How do you declare and assign values to variables?\n",
    "\n",
    "Variables in Python are like containers to store data. \n",
    "To declare, use the variable name followed by = and the value. No explicit type declaration is needed. \n",
    "Example: age = 25 "
   ]
  },
  {
   "cell_type": "markdown",
   "id": "e19cdfe4-35b7-417b-85e1-590f456db73e",
   "metadata": {},
   "source": [
    "Q3. How do you convert one data type to another in Python?\n",
    "\n",
    "In Python, we can convert one data type to another using type conversion functions or constructors like:-\n",
    "int(): Convert to an integer.\n",
    "float(): Convert to a floating-point number.\n",
    "str(): Convert to a string."
   ]
  },
  {
   "cell_type": "markdown",
   "id": "f19add44-254f-4e29-b72b-c640da84fe57",
   "metadata": {},
   "source": [
    "Q4. How do you write and execute a Python script from the command line?\n",
    "\n",
    "To write and execute a Python script from the command line, create a .py file with Python code. Open the command prompt or terminal, navigate to the file's directory using cd, and run the script with python or python3 command followed by the script's filename."
   ]
  },
  {
   "cell_type": "markdown",
   "id": "7e83e21a-609f-45bc-9df0-861b0b58b85e",
   "metadata": {},
   "source": [
    "Q5. Given a list my_list = [1, 2, 3, 4, 5], write the code to slice the list and obtain the sub-list [2, 3].\n",
    "\n",
    "my_list = [1, 2, 3, 4, 5]\n",
    "sub_list = my_list[1:3]\n",
    "print(sub_list)"
   ]
  },
  {
   "cell_type": "markdown",
   "id": "626255a4-a30e-4d2a-b1c3-c06acc0aed8b",
   "metadata": {},
   "source": [
    "Q6. What is a complex number in mathematics, and how is it represented in Python?\n",
    "\n",
    "In mathematics, a complex number is a number of the form \"a + bi,\" where \"a\" and \"b\" are real numbers, and \"i\" represents the imaginary unit (√-1). \n",
    "In Python, complex numbers are represented using the \"j\" suffix, For eg: `a + bj`, where \"a\" and \"b\" are real numbers."
   ]
  },
  {
   "cell_type": "markdown",
   "id": "d17632a8-5351-48c6-a760-410fad3f1acb",
   "metadata": {},
   "source": [
    "Q7. What is the correct way to declare a variable named age and assign the value 25 to it?\n",
    "\n",
    "age = 25"
   ]
  },
  {
   "cell_type": "markdown",
   "id": "717ec665-88d1-4343-a3af-53c5f359a5e8",
   "metadata": {},
   "source": [
    "Q8. Declare a variable named price and assign the value 9.99 to it. What data type does this variable\n",
    "belong to?\n",
    "\n",
    "price=9.99 \n",
    "float"
   ]
  },
  {
   "cell_type": "markdown",
   "id": "d493a721-47b2-49cb-ae7f-6ca57ba9e991",
   "metadata": {},
   "source": [
    "Q9. Create a variable named name and assign your full name to it as a string. How would you print the\n",
    "value of this variable?\n",
    "\n",
    "name = \"Parth Bansal\" \n",
    "print(name)"
   ]
  },
  {
   "cell_type": "markdown",
   "id": "9c6fbc8b-281f-4320-8cbe-87d256b67122",
   "metadata": {},
   "source": [
    "Q10. Given the string \"Hello, World!\", extract the substring \"World\".\n",
    "\n",
    "string = \"Hello, World!\"\n",
    "substring = string[7:12]\n",
    "print(substring)"
   ]
  },
  {
   "cell_type": "markdown",
   "id": "706b0f7c-35eb-4fba-bce6-20cc3ad2e1ca",
   "metadata": {},
   "source": [
    "Q11. Create a variable named \"is_student\" and assign it a boolean value indicating whether you are\n",
    "currently a student or not.\n",
    "\n",
    "If you are currently a student:\n",
    "is_student = True\n",
    "\n",
    "If you are not currently a student:\n",
    "is_student = False"
   ]
  }
 ],
 "metadata": {
  "kernelspec": {
   "display_name": "Python 3 (ipykernel)",
   "language": "python",
   "name": "python3"
  },
  "language_info": {
   "codemirror_mode": {
    "name": "ipython",
    "version": 3
   },
   "file_extension": ".py",
   "mimetype": "text/x-python",
   "name": "python",
   "nbconvert_exporter": "python",
   "pygments_lexer": "ipython3",
   "version": "3.10.8"
  }
 },
 "nbformat": 4,
 "nbformat_minor": 5
}
